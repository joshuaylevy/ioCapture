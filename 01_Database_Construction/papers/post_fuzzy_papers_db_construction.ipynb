{
 "cells": [
  {
   "cell_type": "code",
   "execution_count": 2,
   "metadata": {},
   "outputs": [
    {
     "name": "stdout",
     "output_type": "stream",
     "text": [
      "c:\\Users\\Joshualevy\\Documents\\ioCapture\\01_Database_Construction\\papers\n"
     ]
    }
   ],
   "source": [
    "import os\n",
    "import pandas as pd\n",
    "import re\n",
    "print(os.getcwd())"
   ]
  },
  {
   "cell_type": "code",
   "execution_count": 10,
   "metadata": {},
   "outputs": [],
   "source": [
    "fuzzy_reports_paths_lists = []\n",
    "fuzzy_matched_csvs_lists = []\n",
    "fuzzy_results_folders_path = '../../00_Scraping/econlit_scopus_matching_out/'\n",
    "for current_folder,child_folders,current_folder_files in os.walk(fuzzy_results_folders_path):\n",
    "    for file in current_folder_files:\n",
    "        if re.search(r'_fuzzy_matching_report\\.txt', file, re.I):\n",
    "            new_report_path = current_folder + '/' + file\n",
    "            fuzzy_reports_paths_lists.append(new_report_path)\n",
    "\n",
    "        ### In the future this should change to accomodate the hand-matched articles as well. \n",
    "        if re.search(r'_fuzzy_matches\\.csv', file, re.I):\n",
    "            fuzzy_matches_path = current_folder + '/' + file\n",
    "            fuzzy_matched_csvs_lists.append(fuzzy_matches_path)\n",
    "\n",
    "# print(fuzzy_reports_paths_lists)\n",
    "# print(fuzzy_matched_csvs_lists)\n"
   ]
  },
  {
   "cell_type": "code",
   "execution_count": null,
   "metadata": {},
   "outputs": [],
   "source": [
    "fuzzy_reports_df = pd.DataFrame()\n",
    "\n",
    "for path in fuzzy_reports_paths_lists:\n",
    "    print(path)\n",
    "    pub_code = re.search(r'([A-Z]{3})_fuzzy_matching_report\\.txt', path)[1]\n",
    "    print(pub_code)\n",
    "\n",
    "    fuzzy_report_patterns_dict = {\n",
    "        'scopus_obs' : r'Original ' + pub_code + r' Scopus-collected observations: (\\d{3,5})',\n",
    "        'econlit_obs' : r'Original ' + pub_code + r' EconLit-collected observations: (\\d{3,5})',\n",
    "        'naive_match_obs' : r'Number of ' + pub_code + r' naively-matched observations: (\\d{3,5})',\n",
    "        'fuzzy_match_obs' : r'Number of ' + pub_code + r' fuzzy-matched observations \\d+ \\((\\d{2,5}) added\\)',\n",
    "        'remaining_scopus_obs' : r'Number of ' + pub_code + r' post-fuzzy-match Scopus-only remainder observations: (\\d{1,5})',\n",
    "        'remaining_econlit_obs' : r'Number of ' + pub_code + r' post-fuzzy-match EconLit-only remainder observations: (\\d{1,5})',\n",
    "    }\n",
    "\n",
    "\n",
    "    temp_df = pd.DataFrame({\n",
    "        'pub_code' : pub_code,\n",
    "        'scopus_obs' : [None],\n",
    "        'econlit_obs' : [None],\n",
    "        'naive_match_obs' :  [None],\n",
    "        'fuzzy_match_obs' : [None],\n",
    "        'remaining_scopus_obs' : [None],\n",
    "        'remaining_econlit_obs' : [None],\n",
    "\n",
    "    })\n",
    "\n",
    "    fuzzy_report_file = open(path, 'r', encoding='utf-8')\n",
    "    fuzzy_report_lines = fuzzy_report_file.read()\n",
    "\n",
    "    for column in fuzzy_report_patterns_dict.keys():\n",
    "        pattern = fuzzy_report_patterns_dict.get(column)\n",
    "        patterns_value = re.search(pattern, fuzzy_report_lines)[1]\n",
    "        print('{}: {}'.format(column, patterns_value))\n",
    "        temp_df.loc[0, column] = patterns_value\n",
    "\n",
    "    fuzzy_reports_df = pd.concat([fuzzy_reports_df, temp_df], ignore_index=True)\n",
    "\n",
    "\n",
    "fuzzy_reports_df.to_csv('fuzzy_match_results.csv', encoding='utf-8', index=False)\n"
   ]
  },
  {
   "cell_type": "code",
   "execution_count": 19,
   "metadata": {},
   "outputs": [
    {
     "name": "stdout",
     "output_type": "stream",
     "text": [
      "4803\n",
      "5482\n",
      "7049\n",
      "7756\n",
      "10370\n",
      "11311\n",
      "12035\n",
      "12749\n",
      "15173\n",
      "15987\n",
      "17279\n",
      "18554\n",
      "19965\n",
      "21928\n",
      "23097\n"
     ]
    }
   ],
   "source": [
    "fuzzy_matched_papers_df = pd.DataFrame()\n",
    "\n",
    "for file in fuzzy_matched_csvs_lists:\n",
    "    temp_df = pd.read_csv(file)\n",
    "\n",
    "    fuzzy_matched_papers_df = pd.concat([fuzzy_matched_papers_df, temp_df])\n",
    "    print(len(fuzzy_matched_papers_df))\n",
    "\n",
    "fuzzy_matched_papers_df.columns\n",
    "# fuzzy_matched_papers_df = fuzzy_matched_papers_df.drop(columns='')\n",
    "fuzzy_matched_papers_df.to_csv('fuzzy_matched_papers_df.csv', index=False, encoding='utf-8')\n"
   ]
  }
 ],
 "metadata": {
  "kernelspec": {
   "display_name": "Python 3.10.4 ('ioCapture')",
   "language": "python",
   "name": "python3"
  },
  "language_info": {
   "codemirror_mode": {
    "name": "ipython",
    "version": 3
   },
   "file_extension": ".py",
   "mimetype": "text/x-python",
   "name": "python",
   "nbconvert_exporter": "python",
   "pygments_lexer": "ipython3",
   "version": "3.10.4"
  },
  "orig_nbformat": 4,
  "vscode": {
   "interpreter": {
    "hash": "301a221a682cbebc60020c6c7a0e12fb9a472db6fd70ca33686bd8433de05f70"
   }
  }
 },
 "nbformat": 4,
 "nbformat_minor": 2
}
