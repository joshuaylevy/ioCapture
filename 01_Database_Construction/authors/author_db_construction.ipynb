{
 "cells": [
  {
   "cell_type": "code",
   "execution_count": 3,
   "metadata": {},
   "outputs": [
    {
     "name": "stdout",
     "output_type": "stream",
     "text": [
      "c:\\Users\\Joshualevy\\Documents\\ioCapture\\01_Database_Construction\\authors\n"
     ]
    }
   ],
   "source": [
    "import pandas as pd\n",
    "import os\n",
    "import re \n",
    "print(os.getcwd())"
   ]
  },
  {
   "cell_type": "code",
   "execution_count": 5,
   "metadata": {},
   "outputs": [
    {
     "data": {
      "text/plain": [
       "['../../00_Scraping/scopus_data/AER_author_abstract_funding.csv',\n",
       " '../../00_Scraping/scopus_data/ALJ_author_abstract_funding.csv',\n",
       " '../../00_Scraping/scopus_data/ATB_author_abstract_funding.csv',\n",
       " '../../00_Scraping/scopus_data/ATX_author_abstract_funding.csv',\n",
       " '../../00_Scraping/scopus_data/ECA_author_abstract_funding.csv',\n",
       " '../../00_Scraping/scopus_data/ECX_author_abstract_funding.csv',\n",
       " '../../00_Scraping/scopus_data/JEM_author_abstract_funding.csv',\n",
       " '../../00_Scraping/scopus_data/JFE_author_abstract_funding.csv',\n",
       " '../../00_Scraping/scopus_data/JHR_author_abstract_funding.csv',\n",
       " '../../00_Scraping/scopus_data/JLE_author_abstract_funding.csv',\n",
       " '../../00_Scraping/scopus_data/JLO_author_abstract_funding.csv',\n",
       " '../../00_Scraping/scopus_data/JOF_author_abstract_funding.csv',\n",
       " '../../00_Scraping/scopus_data/JOL_author_abstract_funding.csv',\n",
       " '../../00_Scraping/scopus_data/JPE_author_abstract_funding.csv',\n",
       " '../../00_Scraping/scopus_data/QJE_author_abstract_funding.csv',\n",
       " '../../00_Scraping/scopus_data/RES_author_abstract_funding.csv',\n",
       " '../../00_Scraping/scopus_data/RFS_author_abstract_funding.csv',\n",
       " '../../00_Scraping/scopus_data/RJE_author_abstract_funding.csv']"
      ]
     },
     "execution_count": 5,
     "metadata": {},
     "output_type": "execute_result"
    }
   ],
   "source": [
    "authors_abstracts_paths_lists = []\n",
    "\n",
    "aa_results_folder_path = '../../00_Scraping/scopus_data'\n",
    "for current_folder, child_folders, current_folder_files in os.walk(aa_results_folder_path):\n",
    "    for file in current_folder_files:\n",
    "        # print(file)\n",
    "        if re.search(r'_author_abstract_funding\\.csv', file, re.I):\n",
    "            new_aa_csv_path = current_folder + '/' + file\n",
    "            authors_abstracts_paths_lists.append(new_aa_csv_path)\n",
    "\n",
    "\n",
    "authors_abstracts_paths_lists"
   ]
  },
  {
   "cell_type": "code",
   "execution_count": 7,
   "metadata": {},
   "outputs": [
    {
     "name": "stdout",
     "output_type": "stream",
     "text": [
      "10904\n",
      "11550\n",
      "12652\n",
      "12720\n",
      "16173\n",
      "16377\n",
      "17816\n",
      "24753\n",
      "26765\n",
      "28222\n",
      "29550\n",
      "34996\n",
      "36757\n",
      "39556\n",
      "42479\n",
      "45347\n",
      "50249\n",
      "52461\n"
     ]
    }
   ],
   "source": [
    "authors_df = pd.DataFrame()\n",
    "\n",
    "for file in authors_abstracts_paths_lists:\n",
    "    temp_df = pd.read_csv(file)\n",
    "\n",
    "    authors_df = pd.concat([authors_df, temp_df], ignore_index=True)\n",
    "\n",
    "    print(len(authors_df))\n",
    "\n",
    "authors_df.to_csv('authors_df.csv', index=False, encoding='utf-8')"
   ]
  }
 ],
 "metadata": {
  "kernelspec": {
   "display_name": "Python 3.10.4 ('ioCapture')",
   "language": "python",
   "name": "python3"
  },
  "language_info": {
   "codemirror_mode": {
    "name": "ipython",
    "version": 3
   },
   "file_extension": ".py",
   "mimetype": "text/x-python",
   "name": "python",
   "nbconvert_exporter": "python",
   "pygments_lexer": "ipython3",
   "version": "3.10.4"
  },
  "orig_nbformat": 4,
  "vscode": {
   "interpreter": {
    "hash": "301a221a682cbebc60020c6c7a0e12fb9a472db6fd70ca33686bd8433de05f70"
   }
  }
 },
 "nbformat": 4,
 "nbformat_minor": 2
}
