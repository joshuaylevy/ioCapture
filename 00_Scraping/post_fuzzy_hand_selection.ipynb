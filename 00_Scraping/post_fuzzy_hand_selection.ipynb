{
 "cells": [
  {
   "cell_type": "code",
   "execution_count": 64,
   "metadata": {},
   "outputs": [],
   "source": [
    "import pandas as pd\n",
    "import datetime as dt\n",
    "import re\n",
    "import os"
   ]
  },
  {
   "cell_type": "code",
   "execution_count": 4,
   "metadata": {},
   "outputs": [],
   "source": [
    "def does_fuzzy_report_exist(pub_code):\n",
    "    fuzzy_report_path = 'econlit_scopus_matching_out/{}_fuzzy_results/{}_fuzzy_matching_report.txt'.format(pub_code, pub_code)\n",
    "    fuzzy_report_status = os.path.exists(fuzzy_report_path)\n",
    "\n",
    "    return fuzzy_report_status\n"
   ]
  },
  {
   "cell_type": "code",
   "execution_count": 48,
   "metadata": {},
   "outputs": [],
   "source": [
    "def get_report_timestamp(pub_code, report_type: str):\n",
    "    if report_type == 'fuzzy':\n",
    "        report_path = 'econlit_scopus_matching_out/{}_fuzzy_results/{}_fuzzy_matching_report.txt'.format(pub_code, pub_code)\n",
    "    elif report_type == 'hand_selection':\n",
    "        report_path = 'econlit_scopus_matching_out/{}_fuzzy_results/{}_hand_selection_report.txt'.format(pub_code, pub_code)\n",
    "\n",
    "    \n",
    "    \n",
    "    with open(report_path, 'r') as report:\n",
    "        report_lines = report.readlines()\n",
    "        timestamp_line = report_lines[0]\n",
    "\n",
    "        timestamp = dt.datetime.strptime(timestamp_line[:-1],'%Y-%m-%d %X.%f')\n",
    "        return timestamp"
   ]
  },
  {
   "cell_type": "code",
   "execution_count": 46,
   "metadata": {},
   "outputs": [],
   "source": [
    "def does_hand_selection_report_exist(pub_code):\n",
    "    hand_selection_report_path = 'econlit_scopus_matching_out/{}_fuzzy_results/{}_hand_selection_report.txt'.format(pub_code, pub_code)\n",
    "\n",
    "    hand_selection_report_status = os.path.exists(hand_selection_report_path)\n",
    "    return hand_selection_report_status"
   ]
  },
  {
   "cell_type": "code",
   "execution_count": 40,
   "metadata": {},
   "outputs": [],
   "source": [
    "def generate_hand_selection_report(pub_code):\n",
    "    fuzzy_report_path = fuzzy_report_path = 'econlit_scopus_matching_out/{}_fuzzy_results/{}_fuzzy_matching_report.txt'.format(pub_code, pub_code)\n",
    "    hand_selection_report_path = 'econlit_scopus_matching_out/{}_fuzzy_results/{}_hand_selection_report.txt'.format(pub_code, pub_code)\n",
    "\n",
    "    fuzzy_report = open(fuzzy_report_path, 'r')\n",
    "    fuzzy_report_lines = fuzzy_report.readlines()\n",
    "    fuzzy_report.close()\n",
    "\n",
    "    hand_selection_report_lines = fuzzy_report_lines\n",
    "\n",
    "    current_timestamp = str(dt.datetime.now())+'\\n'    \n",
    "    report_title = 'HAND SELECTION_REPORT\\n'\n",
    "\n",
    "    hand_selection_report_lines[0] = current_timestamp\n",
    "    hand_selection_report_lines[1] = report_title\n",
    "\n",
    "\n",
    "    with open(hand_selection_report_path, 'w') as hand_selection_report:\n",
    "        hand_selection_report.writelines(hand_selection_report_lines)\n",
    "\n",
    "    return\n"
   ]
  },
  {
   "cell_type": "code",
   "execution_count": 138,
   "metadata": {},
   "outputs": [],
   "source": [
    "def identify_append_hand_selections(pub_code):\n",
    "\n",
    "    path_prepend = 'econlit_scopus_matching_out/'\n",
    "\n",
    "    hand_selection_report_path = path_prepend +'{}_fuzzy_results/{}_hand_selection_report.txt'.format(pub_code, pub_code)\n",
    "\n",
    "    hand_selection_report = open(hand_selection_report_path, 'r').read()\n",
    "    # print(hand_selection_report)\n",
    "\n",
    "    unmatched_scopus_articles_start = re.search(r'SCOPUS ARTICLES REMAINING UNMATCHED \\(\\d*\\)', hand_selection_report).start()\n",
    "    unmatched_econlit_articles_start = re.search(r'ECONLIT ARTICLES REMAINING UNMATCHED \\(\\d*\\)', hand_selection_report).start()\n",
    "\n",
    "    unmatched_scopus_articles_string = hand_selection_report[unmatched_scopus_articles_start: unmatched_econlit_articles_start]\n",
    "    unmatched_econlit_articles_string = hand_selection_report[unmatched_econlit_articles_start:]\n",
    "\n",
    "\n",
    "    hand_selection_pattern = r'\\*\\*\\*(.*) \\(VOL\\. \\d+'\n",
    "\n",
    "    hand_selected_scopus_titles_obj = re.finditer(hand_selection_pattern,unmatched_scopus_articles_string)\n",
    "    hand_selected_econlit_titles_obj = re.finditer(hand_selection_pattern,unmatched_econlit_articles_string)\n",
    "    hand_selected_scopus_titles = []\n",
    "    hand_selected_econlit_titles = []\n",
    "    for i, title in enumerate(hand_selected_scopus_titles_obj):\n",
    "        # print(title)\n",
    "        hand_selected_scopus_titles.append(title[1])\n",
    "    for j, title in enumerate(hand_selected_econlit_titles_obj):\n",
    "        # print(title)\n",
    "        hand_selected_econlit_titles.append(title[1])\n",
    "\n",
    "    print('Hand-selected Scopus titles', hand_selected_scopus_titles)\n",
    "    print('Hand-selected EconLit titles', hand_selected_econlit_titles)\n",
    "\n",
    "\n",
    "\n",
    "    fuzzy_matched_path = path_prepend + '{}_fuzzy_results/{}_fuzzy_matches.csv'.format(pub_code, pub_code)\n",
    "    scopus_unmatched_path = path_prepend + '{}_fuzzy_results/{}_fuzzy_unmatched_scopus.csv'.format(pub_code, pub_code)\n",
    "    econlit_unmatched_path = path_prepend + '{}_fuzzy_results/{}_fuzzy_unmatched_econlit.csv'.format(pub_code, pub_code)\n",
    "\n",
    "\n",
    "    fuzzy_matched_df = pd.read_csv(fuzzy_matched_path)\n",
    "    print('No. observations prior to appending hand-selected: ', len(fuzzy_matched_df))\n",
    "\n",
    "    scopus_unmatched_df = pd.read_csv(scopus_unmatched_path)\n",
    "    econlit_unmatched_df = pd.read_csv(econlit_unmatched_path)\n",
    "    \n",
    "    scopus_hand_selected_df = scopus_unmatched_df[scopus_unmatched_df['sc_title'].isin(hand_selected_scopus_titles)]\n",
    "\n",
    "    econlit_hand_selected_df = econlit_unmatched_df[econlit_unmatched_df['title'].isin(hand_selected_econlit_titles)]\n",
    "\n",
    "    print('Trying to append {} hand-selected Scopus article(s)'.format(len(scopus_hand_selected_df)))\n",
    "    print('Trying to append {} hand-selected EconLit article(s)'.format(len(econlit_hand_selected_df)))\n",
    "\n",
    "    print(fuzzy_matched_df.dtypes)\n",
    "    print(scopus_hand_selected_df.dtypes)\n",
    "    print(econlit_hand_selected_df.dtypes)\n",
    "\n",
    "\n",
    "    hand_selected_df = pd.concat([fuzzy_matched_df, scopus_hand_selected_df, econlit_hand_selected_df], ignore_index=True)\n",
    "    # Future warning here applies to the 'sc_open_access_Status' column because in econlit_hand_selected_df they are all np.nan (numeric dtype). No real need to worry about this because it will be coerced to an object dtype which preserves info for us.\n",
    "\n",
    "    print('No. observations after to appending hand-selected: ',len(hand_selected_df))\n",
    "\n",
    "    return hand_selected_df"
   ]
  },
  {
   "cell_type": "code",
   "execution_count": 110,
   "metadata": {},
   "outputs": [],
   "source": [
    "def output_hand_appended(pub_code, hand_selected_df):\n",
    "    path_prepend = 'econlit_scopus_matching_out/'\n",
    "    outpath = path_prepend + '{}_hand_selected_appended.csv'.format(pub_code)\n",
    "\n",
    "    hand_selected_df.to_csv(outpath, encoding='utf-8', index=False)\n",
    "    \n",
    "    return"
   ]
  },
  {
   "cell_type": "code",
   "execution_count": 142,
   "metadata": {},
   "outputs": [],
   "source": [
    "run_list = [\n",
    "    # 'AER',\n",
    "    # 'ECA',\n",
    "    # 'JPE',\n",
    "    # 'QJE',\n",
    "    'RES',\n",
    "    # 'RJE',\n",
    "]"
   ]
  },
  {
   "cell_type": "code",
   "execution_count": 146,
   "metadata": {},
   "outputs": [
    {
     "name": "stdout",
     "output_type": "stream",
     "text": [
      "It looks like a hand-selection report for RES doesn't exist yet. Generating one now.\n",
      "Please examine the newly generated hand-selection report for RES and identify articles as you see fit\n"
     ]
    }
   ],
   "source": [
    "for pub_code in run_list:\n",
    "    if does_fuzzy_report_exist(pub_code):\n",
    "        if does_hand_selection_report_exist(pub_code):\n",
    "            if get_report_timestamp(pub_code, 'fuzzy') < get_report_timestamp(pub_code, 'hand_selection'):\n",
    "                print('Adding hand-selected observations')\n",
    "                hand_selected_df = identify_append_hand_selections(pub_code)\n",
    "                output_hand_appended(pub_code, hand_selected_df)\n",
    "\n",
    "\n",
    "            else:\n",
    "                print(\"It looks like your Fuzzy-matching report for {} has been generated more recently than your hand-selection report. That it means the latter could be out of date. Please _either update timestamp manually or...________\".format(pub_code))\n",
    "        else:\n",
    "            print(\"It looks like a hand-selection report for {} doesn't exist yet. Generating one now.\".format(pub_code))\n",
    "            generate_hand_selection_report(pub_code)\n",
    "            print(\"Please examine the newly generated hand-selection report for {} and identify articles as you see fit\".format(pub_code))\n",
    "    else:\n",
    "        print(\"It looks like a fuzzy matching report for {} doesn't exist yet. Please first run the fuzzy-matching algorithm\".format(pub_code))\n",
    "\n",
    "\n"
   ]
  }
 ],
 "metadata": {
  "interpreter": {
   "hash": "301a221a682cbebc60020c6c7a0e12fb9a472db6fd70ca33686bd8433de05f70"
  },
  "kernelspec": {
   "display_name": "Python 3.10.4 ('ioCapture')",
   "language": "python",
   "name": "python3"
  },
  "language_info": {
   "codemirror_mode": {
    "name": "ipython",
    "version": 3
   },
   "file_extension": ".py",
   "mimetype": "text/x-python",
   "name": "python",
   "nbconvert_exporter": "python",
   "pygments_lexer": "ipython3",
   "version": "3.10.4"
  },
  "orig_nbformat": 4
 },
 "nbformat": 4,
 "nbformat_minor": 2
}
