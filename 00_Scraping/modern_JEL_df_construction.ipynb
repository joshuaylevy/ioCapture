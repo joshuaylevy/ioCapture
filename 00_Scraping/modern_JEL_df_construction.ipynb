{
 "cells": [
  {
   "cell_type": "code",
   "execution_count": 15,
   "metadata": {},
   "outputs": [],
   "source": [
    "# PREAMBLE: Importing packages\n",
    "import pandas as pd\n",
    "import numpy as np\n",
    "import time\n",
    "import re\n",
    "from bs4 import BeautifulSoup as bs\n",
    "import lxml "
   ]
  },
  {
   "cell_type": "code",
   "execution_count": null,
   "metadata": {},
   "outputs": [],
   "source": [
    "# CONVERSION: converting raw XML file into BS-readable format\n",
    "file = open('aea_jel_codes.xml','r')\n",
    "listed = file.readlines()\n",
    "content = \"\".join(listed)\n",
    "bs_content = bs(content, 'lxml')\n",
    "bs_content"
   ]
  },
  {
   "cell_type": "code",
   "execution_count": null,
   "metadata": {},
   "outputs": [],
   "source": [
    "# Organizing the XML data into a pd df-ready format\n",
    "codes = bs_content.find_all('code')\n",
    "descriptions = bs_content.find_all('description')\n",
    "\n",
    "# The xml's '<description>' tags wrap the desired code description text with '<![[xyz]]>' so that the xml doesn't interpret special characters as markup. We strip that off here.\n",
    "extract_description_pattern  = r'<!\\[CDATA\\[(.+)\\]\\]>'\n",
    "\n",
    "codes_list = []\n",
    "descriptions_list = []\n",
    "\n",
    "print(len(codes), len(descriptions))\n",
    "for code, description in zip(codes, descriptions):\n",
    "    code_val = code.text\n",
    "    description_raw = description.text \n",
    "    description_val = re.match(extract_description_pattern, description_raw)[1]\n",
    "\n",
    "    codes_list.append(code_val)\n",
    "    descriptions_list.append(description_val)\n",
    "\n",
    "    # print('{}\\t{}'.format(code_val, description_val))\n",
    "\n"
   ]
  },
  {
   "cell_type": "code",
   "execution_count": 22,
   "metadata": {},
   "outputs": [
    {
     "name": "stdout",
     "output_type": "stream",
     "text": [
      "Stored 'jel_code_df' (DataFrame)\n"
     ]
    }
   ],
   "source": [
    "# STORAGE : We then store that JEL data in a df, save it as a csv and as a juptyer variable object for ease of use\n",
    "jel_code_df = pd.DataFrame({\n",
    "    'jel_code' : codes_list,\n",
    "    'jel_descirption' : descriptions_list,\n",
    "})\n",
    "\n",
    "jel_code_df.to_csv('jel_code_df.csv', encoding='utf-8', index=False)\n",
    "\n",
    "\n",
    "jel_code_df\n",
    "%store jel_code_df"
   ]
  }
 ],
 "metadata": {
  "interpreter": {
   "hash": "5d024caada2c1174a84651bac8b4321c201a5c821ecf13f184567326fb13b29e"
  },
  "kernelspec": {
   "display_name": "Python 3.10.4 ('ioCapture')",
   "language": "python",
   "name": "python3"
  },
  "language_info": {
   "codemirror_mode": {
    "name": "ipython",
    "version": 3
   },
   "file_extension": ".py",
   "mimetype": "text/x-python",
   "name": "python",
   "nbconvert_exporter": "python",
   "pygments_lexer": "ipython3",
   "version": "3.10.4"
  },
  "orig_nbformat": 4
 },
 "nbformat": 4,
 "nbformat_minor": 2
}
