{
 "cells": [
  {
   "cell_type": "code",
   "execution_count": null,
   "metadata": {},
   "outputs": [],
   "source": [
    "import re\n",
    "import os\n",
    "print(os.getcwd())"
   ]
  },
  {
   "cell_type": "code",
   "execution_count": null,
   "metadata": {},
   "outputs": [],
   "source": [
    "path_prepend = 'tex_tables'"
   ]
  },
  {
   "cell_type": "code",
   "execution_count": 61,
   "metadata": {},
   "outputs": [
    {
     "name": "stdout",
     "output_type": "stream",
     "text": [
      "['AER', 'ECA', 'JPE', 'QJE', 'RES']\n",
      "EXTRACING TEX FOR PUBLICATION: ECA\n",
      "EXTRACING TEX FOR PUBLICATION: JPE\n",
      "EXTRACING TEX FOR PUBLICATION: QJE\n",
      "EXTRACING TEX FOR PUBLICATION: RES\n"
     ]
    }
   ],
   "source": [
    "pubs_list = ['AER', 'ECA', 'JPE', 'QJE', 'RES']\n",
    "# pubs_list = ['AER']\n",
    "pub_full_name_dict = {\n",
    "    'AER' : 'American Economic Review',\n",
    "    'ECA' : 'Econometrica',\n",
    "    'JPE' : 'Journal of Political Economy',\n",
    "    'QJE' : 'Quarterly Journal of Economics',\n",
    "    'RES' : 'Review of Economic Studies'\n",
    "}\n",
    "print(pubs_list)\n",
    "for pub in pubs_list:\n",
    "    with open(path_prepend + '/jel_ranking_table_' + pub + '.tex', 'r') as pub_tab:\n",
    "        old_tex = pub_tab.read()\n",
    "        pub_full_name  = pub_full_name_dict.get(pub)\n",
    "\n",
    "        # CHANGING ALIGNMENT OF COLUMNS\n",
    "        new_tex = old_tex.replace('ccccccc', 'lllllll')\n",
    "        \n",
    "        # CHANING POSITIONING OF TABLE WITHIN PAGES\n",
    "        new_tex = re.sub(r'!htbp', 'h', new_tex)\n",
    "\n",
    "        # ADDING A PUBLICATION-LEVEL HEADER \n",
    "        new_tex = re.sub(r'\\\\hline \\n\\\\hline \\\\\\\\\\[-1.8ex\\] ', \n",
    "            r'\\\\hline \\n\\\\hline \\\\\\\\[-1.8ex] \\\\multicolumn{7}{c}{Publication : \\\\textit{' + pub_full_name + r'}} \\\\\\\\\\n \\\\cline{1-7} \\\\\\\\',\n",
    "            new_tex)\n",
    "\n",
    "        # CLEANING UP THE COLUMN HEADERS TO BE ONLY YEARS (removing underscores and year so that 'AER\\_1991' becomes '1991)\n",
    "        new_tex = re.sub(r'[A-Z]{3}\\\\_', '', new_tex)\n",
    "\n",
    "        # WRAPPING THE ENTIRE TABLE IN AN ENVIRONMENT THAT SCALES THE TABLE TO THE TEXT-WIDTH OF THE PAGE\n",
    "        # new_tex = re.sub(r'\\\\label{} \\n', r'\\\\label{} \\n\\\\begin{adjustbox}{max width = \\\\textwidth}\\n', new_tex)\n",
    "        # new_tex = re.sub(r'\\\\end{tabular} \\n', r'\\\\end{tabular} \\n\\\\end{adjustbox}\\n', new_tex)\n",
    "\n",
    "        # CREATE A NICE, CLEANED UP PUBLICATION LEVEL TABLE (STORED AS TEMP, WILL BE DELETED LATER)\n",
    "        with open(path_prepend + '/jel_ranking_table_' + pub +'_temp.tex', 'w') as temp_output:\n",
    "            temp_output.write(new_tex)\n",
    "\n",
    "first_tex_str = open(path_prepend + '/jel_ranking_table_' + pubs_list[0] + '_temp.tex', 'r').read()\n",
    "\n",
    "for i in range(1, len(pubs_list)): \n",
    "    print('EXTRACING TEX FOR PUBLICATION: {}'.format(pubs_list[i]))\n",
    "    with open(path_prepend + '/jel_ranking_table_' + pubs_list[i] + '_temp.tex', 'r') as temp_table_file:\n",
    "        temp_table_tex = temp_table_file.read()\n",
    "\n",
    "        table_body_of_interest = re.search(r'(?s)(?<=lllllll} \\n\\\\\\\\\\[-1.8ex\\]\\\\hline).*(?=\\\\hline)', temp_table_tex).group()\n",
    "        table_body_of_interest = re.sub(r'\\\\', r'\\\\\\\\', table_body_of_interest)\n",
    "        # print(type(table_body_of_interest))\n",
    "        # print(table_body_of_interest)\n",
    "\n",
    "\n",
    "    if i == 1:\n",
    "        complete_table_tex = re.sub(r'\\\\hline \\\\\\\\\\[-1.8ex\\] \\n\\\\end{tabular} \\n\\\\end{adjustbox} \\n\\\\end{table}', table_body_of_interest, first_tex_str)\n",
    "    else:\n",
    "        complete_table_tex = re.sub(r'\\\\end{tabular}', table_body_of_interest + r'\\n\\\\end{tabular}', complete_table_tex)\n",
    "\n",
    "    # complete_table_tex = complete_table_tex + r'\\hline + \\\\[-1.8ex] \\n\\\\end{tabular} \\n\\\\end{adjustbox} \\n\\\\end{table}'\n",
    "\n",
    "with open(path_prepend + '/jel_ranking_table_together.tex', 'w') as final_output:\n",
    "    final_output.write(complete_table_tex)\n"
   ]
  },
  {
   "cell_type": "code",
   "execution_count": 55,
   "metadata": {},
   "outputs": [
    {
     "data": {
      "text/plain": [
       "'\\\\hline \\\\[] \\\\endline'"
      ]
     },
     "execution_count": 55,
     "metadata": {},
     "output_type": "execute_result"
    }
   ],
   "source": [
    "test_string = '\\hline [] \\endline'\n",
    "re.sub(r'\\[', r'\\[', test_string)"
   ]
  }
 ],
 "metadata": {
  "interpreter": {
   "hash": "2df2000a0b5db8cfb7123a9e988e96ee6c542897cd038d7b37140af7c2d7aa32"
  },
  "kernelspec": {
   "display_name": "Python 3.8.8 ('base')",
   "language": "python",
   "name": "python3"
  },
  "language_info": {
   "codemirror_mode": {
    "name": "ipython",
    "version": 3
   },
   "file_extension": ".py",
   "mimetype": "text/x-python",
   "name": "python",
   "nbconvert_exporter": "python",
   "pygments_lexer": "ipython3",
   "version": "3.10.4"
  },
  "orig_nbformat": 4
 },
 "nbformat": 4,
 "nbformat_minor": 2
}
