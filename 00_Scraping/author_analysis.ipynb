{
 "cells": [
  {
   "cell_type": "code",
   "execution_count": 2,
   "metadata": {},
   "outputs": [
    {
     "name": "stderr",
     "output_type": "stream",
     "text": [
      "C:\\Users\\Joshualevy\\Anaconda3\\envs\\ioCapture\\lib\\site-packages\\thefuzz\\fuzz.py:11: UserWarning: Using slow pure-python SequenceMatcher. Install python-Levenshtein to remove this warning\n",
      "  warnings.warn('Using slow pure-python SequenceMatcher. Install python-Levenshtein to remove this warning')\n"
     ]
    }
   ],
   "source": [
    "import pandas as pd\n",
    "import numpy as np\n",
    "import lxml\n",
    "import traceback\n",
    "import re\n",
    "from bs4 import BeautifulSoup as bs\n",
    "from thefuzz import fuzz"
   ]
  },
  {
   "cell_type": "code",
   "execution_count": 5,
   "metadata": {},
   "outputs": [],
   "source": [
    "authors_df = pd.read_csv('econlit_scopus_matching_out/JPE_author_abstract_funding.csv')"
   ]
  },
  {
   "cell_type": "code",
   "execution_count": 49,
   "metadata": {},
   "outputs": [],
   "source": [
    "aer_df = pd.read_csv('econlit_scopus_matching_out/aer_econlit.csv')\n",
    "eca_df = pd.read_csv('econlit_scopus_matching_out/eca_econlit.csv')\n",
    "jpe_df = pd.read_csv('econlit_scopus_matching_out/jpe_econlit.csv')\n",
    "qje_df = pd.read_csv('econlit_scopus_matching_out/qje_econlit.csv')\n",
    "res_df = pd.read_csv('econlit_scopus_matching_out/res_econlit.csv')\n",
    "rje_df = pd.read_csv('econlit_scopus_matching_out/rje_econlit.csv')\n",
    "\n",
    "aer_df['publication'] = 'aer'\n",
    "eca_df['publication'] = 'eca'\n",
    "jpe_df['publication'] = 'jpe'\n",
    "qje_df['publication'] = 'qje'\n",
    "res_df['publication'] = 'res'\n",
    "rje_df['publication'] = 'rje'\n",
    "\n",
    "\n",
    "econlit_df = pd.concat([aer_df, eca_df, jpe_df, qje_df, res_df, rje_df], ignore_index=True)"
   ]
  },
  {
   "cell_type": "code",
   "execution_count": 50,
   "metadata": {},
   "outputs": [
    {
     "name": "stderr",
     "output_type": "stream",
     "text": [
      "C:\\Users\\Joshualevy\\AppData\\Local\\Temp\\ipykernel_16520\\3084400753.py:4: SettingWithCopyWarning: \n",
      "A value is trying to be set on a copy of a slice from a DataFrame.\n",
      "Try using .loc[row_indexer,col_indexer] = value instead\n",
      "\n",
      "See the caveats in the documentation: https://pandas.pydata.org/pandas-docs/stable/user_guide/indexing.html#returning-a-view-versus-a-copy\n",
      "  abstracts_df['anti_trust_indicator'] = 0\n",
      "C:\\Users\\Joshualevy\\AppData\\Local\\Temp\\ipykernel_16520\\3084400753.py:5: SettingWithCopyWarning: \n",
      "A value is trying to be set on a copy of a slice from a DataFrame.\n",
      "Try using .loc[row_indexer,col_indexer] = value instead\n",
      "\n",
      "See the caveats in the documentation: https://pandas.pydata.org/pandas-docs/stable/user_guide/indexing.html#returning-a-view-versus-a-copy\n",
      "  abstracts_df['market_power_indicator'] = 0\n"
     ]
    }
   ],
   "source": [
    "# abstracts_df = authors_df[['doi', 'sc_title', 'sc_abstract_text']]\n",
    "abstracts_df = econlit_df[['title', 'date', 'publication', 'abstract', 'jel_code', 'L_code', 'K_code', 'D4_code', 'O3_code', 'G34_code']]\n",
    "\n",
    "abstracts_df['anti_trust_indicator'] = 0\n",
    "abstracts_df['market_power_indicator'] = 0\n",
    "\n",
    "\n",
    "anti_trust_pattern = r'anti trust|anti-trust'\n",
    "market_power_pattern = r'market power|market-power'"
   ]
  },
  {
   "cell_type": "code",
   "execution_count": 51,
   "metadata": {},
   "outputs": [
    {
     "name": "stdout",
     "output_type": "stream",
     "text": [
      "Market power: 104\n",
      "Market power: 223\n",
      "Market power: 238\n",
      "Market power: 320\n",
      "Market power: 420\n",
      "Market power: 431\n",
      "Market power: 539\n",
      "Market power: 806\n",
      "Market power: 822\n",
      "Market power: 831\n",
      "Market power: 1343\n",
      "Market power: 1539\n",
      "Market power: 1858\n",
      "Market power: 2190\n",
      "Market power: 2432\n",
      "Market power: 2441\n",
      "Market power: 2848\n",
      "Market power: 3276\n",
      "Market power: 3301\n",
      "Market power: 3825\n",
      "Market power: 3992\n",
      "Market power: 3993\n",
      "Market power: 4565\n",
      "Market power: 5581\n",
      "Market power: 6108\n",
      "Market power: 6590\n",
      "Market power: 6648\n",
      "Market power: 6747\n",
      "Market power: 7359\n",
      "Market power: 7404\n",
      "Market power: 7418\n",
      "Market power: 7592\n",
      "Market power: 7909\n",
      "Market power: 9120\n",
      "Market power: 9122\n",
      "Market power: 9194\n",
      "Market power: 9233\n",
      "Market power: 9349\n",
      "Market power: 9378\n",
      "Market power: 9381\n",
      "Market power: 9418\n",
      "Market power: 9583\n",
      "Market power: 9684\n",
      "Market power: 9937\n",
      "Market power: 10149\n",
      "Market power: 10368\n",
      "Market power: 10659\n",
      "Market power: 10795\n",
      "Market power: 10873\n",
      "Market power: 10945\n",
      "Market power: 10951\n",
      "Market power: 11009\n",
      "Market power: 11053\n",
      "Market power: 11108\n",
      "Market power: 11210\n",
      "Market power: 11249\n",
      "Market power: 11627\n",
      "Market power: 11831\n",
      "Market power: 11908\n",
      "Market power: 11936\n",
      "Market power: 12121\n",
      "Market power: 12377\n",
      "Market power: 12430\n",
      "Market power: 12703\n",
      "Market power: 12853\n",
      "Market power: 13172\n",
      "Anti-trust: 13223\n",
      "Market power: 13227\n",
      "Market power: 13237\n",
      "Market power: 13522\n",
      "Market power: 13646\n",
      "Market power: 13868\n",
      "Market power: 13876\n",
      "Market power: 13893\n",
      "Market power: 13947\n",
      "Market power: 13962\n",
      "Market power: 13983\n",
      "Market power: 14002\n",
      "Market power: 14078\n",
      "Market power: 14106\n",
      "Market power: 14135\n",
      "Market power: 14174\n",
      "Market power: 14223\n",
      "Market power: 14322\n",
      "Market power: 14323\n",
      "Market power: 14384\n",
      "Market power: 14393\n",
      "Market power: 14441\n",
      "Market power: 14458\n",
      "Market power: 14480\n",
      "Market power: 14506\n",
      "Market power: 14515\n",
      "Market power: 14527\n",
      "Market power: 14584\n",
      "Market power: 14600\n",
      "Market power: 14641\n",
      "Market power: 14664\n",
      "Market power: 14750\n",
      "Market power: 14761\n",
      "Market power: 14795\n",
      "Market power: 14814\n",
      "Market power: 14881\n",
      "Market power: 14983\n",
      "Market power: 14997\n",
      "Market power: 15016\n",
      "Market power: 15024\n",
      "Market power: 15066\n",
      "Market power: 15094\n"
     ]
    }
   ],
   "source": [
    "for row in range(0, len(abstracts_df)):\n",
    "    # sc_abstract_text \n",
    "    if type(abstracts_df.loc[row, 'abstract']) !=str:\n",
    "        continue\n",
    "    if re.search(anti_trust_pattern, abstracts_df.loc[row, 'abstract'], flags=re.I):\n",
    "        print(\"Anti-trust: {}\".format(row))\n",
    "        abstracts_df.loc[row, 'anti_trust_indicator']=1\n",
    "    if re.search(market_power_pattern, abstracts_df.loc[row, 'abstract'], flags=re.I):\n",
    "        print(\"Market power: {}\".format(row))\n",
    "        abstracts_df.loc[row, 'market_power_indicator']=1"
   ]
  },
  {
   "cell_type": "code",
   "execution_count": 53,
   "metadata": {},
   "outputs": [
    {
     "data": {
      "text/plain": [
       "1"
      ]
     },
     "execution_count": 53,
     "metadata": {},
     "output_type": "execute_result"
    }
   ],
   "source": [
    "len(abstracts_df[abstracts_df.market_power_indicator == 1])\n",
    "len(abstracts_df[abstracts_df.anti_trust_indicator == 1])"
   ]
  },
  {
   "cell_type": "code",
   "execution_count": 19,
   "metadata": {},
   "outputs": [
    {
     "name": "stdout",
     "output_type": "stream",
     "text": [
      "here\n"
     ]
    }
   ],
   "source": [
    "text = '''\n",
    "© 2021 by The University of Chicago. All rights reserved.This paper shows that liquidity regulation can trigger unintended credit booms in the presence of interbank market power. We consider a price setter and a continuum of price takers who trade reserves after the realization of idiosyncratic liquidity shocks. The price takers are endogenously less liquid and circumvent regulation by engaging in shadow banking, which leads to a reallocation of funding away from the more liquid price setter. This reallocation channel underlies the credit boom. Endogenous responses in bank liquidity ratios also affect themagnitude of the boom.We discuss extensions of the model and illustrate its quantitative performance with an application to China.\n",
    "'''\n",
    "\n",
    "if re.search(market_power_pattern, text, re.I):\n",
    "    print('here')\n"
   ]
  }
 ],
 "metadata": {
  "interpreter": {
   "hash": "5d024caada2c1174a84651bac8b4321c201a5c821ecf13f184567326fb13b29e"
  },
  "kernelspec": {
   "display_name": "Python 3.10.4 ('ioCapture')",
   "language": "python",
   "name": "python3"
  },
  "language_info": {
   "codemirror_mode": {
    "name": "ipython",
    "version": 3
   },
   "file_extension": ".py",
   "mimetype": "text/x-python",
   "name": "python",
   "nbconvert_exporter": "python",
   "pygments_lexer": "ipython3",
   "version": "3.10.4"
  },
  "orig_nbformat": 4
 },
 "nbformat": 4,
 "nbformat_minor": 2
}
