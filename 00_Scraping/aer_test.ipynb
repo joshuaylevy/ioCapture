{
 "cells": [
  {
   "cell_type": "code",
   "execution_count": 1,
   "metadata": {},
   "outputs": [],
   "source": [
    "import pandas as pd \n",
    "import numpy as np\n",
    "import lxml\n",
    "import traceback\n",
    "from bs4 import BeautifulSoup as bs\n",
    "from thefuzz import fuzz\n"
   ]
  },
  {
   "cell_type": "code",
   "execution_count": 2,
   "metadata": {},
   "outputs": [
    {
     "ename": "FileNotFoundError",
     "evalue": "[Errno 2] No such file or directory: 'econ_lit_xml/aer_90-21.xml'",
     "output_type": "error",
     "traceback": [
      "\u001b[1;31m---------------------------------------------------------------------------\u001b[0m",
      "\u001b[1;31mFileNotFoundError\u001b[0m                         Traceback (most recent call last)",
      "Input \u001b[1;32mIn [2]\u001b[0m, in \u001b[0;36m<cell line: 1>\u001b[1;34m()\u001b[0m\n\u001b[1;32m----> 1\u001b[0m test_download \u001b[38;5;241m=\u001b[39m \u001b[38;5;28;43mopen\u001b[39;49m\u001b[43m(\u001b[49m\u001b[38;5;124;43m'\u001b[39;49m\u001b[38;5;124;43mecon_lit_xml/aer_90-21.xml\u001b[39;49m\u001b[38;5;124;43m'\u001b[39;49m\u001b[43m,\u001b[49m\u001b[43m \u001b[49m\u001b[38;5;124;43m'\u001b[39;49m\u001b[38;5;124;43mr\u001b[39;49m\u001b[38;5;124;43m'\u001b[39;49m\u001b[43m,\u001b[49m\u001b[43m \u001b[49m\u001b[43mencoding\u001b[49m\u001b[38;5;241;43m=\u001b[39;49m\u001b[38;5;124;43m'\u001b[39;49m\u001b[38;5;124;43mutf-8\u001b[39;49m\u001b[38;5;124;43m'\u001b[39;49m\u001b[43m)\u001b[49m\n\u001b[0;32m      2\u001b[0m content \u001b[38;5;241m=\u001b[39m test_download\u001b[38;5;241m.\u001b[39mread()\n\u001b[0;32m      3\u001b[0m test_bs_content \u001b[38;5;241m=\u001b[39m bs(content, \u001b[38;5;124m'\u001b[39m\u001b[38;5;124mlxml\u001b[39m\u001b[38;5;124m'\u001b[39m)\n",
      "\u001b[1;31mFileNotFoundError\u001b[0m: [Errno 2] No such file or directory: 'econ_lit_xml/aer_90-21.xml'"
     ]
    }
   ],
   "source": [
    "test_download = open('econ_lit_xml/aer_90-21.xml', 'r', encoding='utf-8')\n",
    "content = test_download.read()\n",
    "test_bs_content = bs(content, 'lxml')"
   ]
  },
  {
   "cell_type": "code",
   "execution_count": null,
   "metadata": {},
   "outputs": [],
   "source": [
    "candidate_list = test_bs_content.find_all('rec')\n",
    "jpe_list = []\n",
    "for candidate in candidate_list:\n",
    "    try:\n",
    "        journal_title = candidate.find('jtl').text\n",
    "    except:\n",
    "        print('failing out on record {}'.format(candidate.get('resultid')))\n",
    "        continue\n",
    "    if journal_title == \"Journal of Political Economy\":\n",
    "        jpe_list.append(candidate)  \n",
    "    else:\n",
    "        print('failing out on record {}'.format(candidate.get('resultid')))\n",
    "\n",
    "len(jpe_list)"
   ]
  }
 ],
 "metadata": {
  "interpreter": {
   "hash": "5d024caada2c1174a84651bac8b4321c201a5c821ecf13f184567326fb13b29e"
  },
  "kernelspec": {
   "display_name": "Python 3.10.4 ('ioCapture')",
   "language": "python",
   "name": "python3"
  },
  "language_info": {
   "codemirror_mode": {
    "name": "ipython",
    "version": 3
   },
   "file_extension": ".py",
   "mimetype": "text/x-python",
   "name": "python",
   "nbconvert_exporter": "python",
   "pygments_lexer": "ipython3",
   "version": "3.10.4"
  },
  "orig_nbformat": 4
 },
 "nbformat": 4,
 "nbformat_minor": 2
}
