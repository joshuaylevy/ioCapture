{
 "cells": [
  {
   "cell_type": "code",
   "execution_count": 62,
   "metadata": {},
   "outputs": [
    {
     "name": "stdout",
     "output_type": "stream",
     "text": [
      "c:\\Users\\Joshualevy\\Documents\\ioCapture\\adhoc_material\\Reports\\07-27\n"
     ]
    }
   ],
   "source": [
    "import re\n",
    "import os\n",
    "print(os.getcwd())"
   ]
  },
  {
   "cell_type": "code",
   "execution_count": 66,
   "metadata": {},
   "outputs": [
    {
     "name": "stdout",
     "output_type": "stream",
     "text": [
      "AER\n",
      "re.compile('(\\n) & AER')\n",
      "ATB\n",
      "re.compile('(\\n) & ATB')\n",
      "JOF\n",
      "re.compile('(\\n) & JOF')\n",
      "JOL\n",
      "re.compile('(\\n) & JOL')\n",
      "\n",
      "% Table created by stargazer v.5.2.3 by Marek Hlavac, Social Policy Institute. E-mail: marek.hlavac at gmail.com\n",
      "% Date and time: Tue, Jul 26, 2022 - 9:30:30 PM\n",
      "\\begin{table}[h] \\centering \n",
      "  \\caption{Results of Scopus-EconLit Matching} \n",
      "  \\label{} \n",
      "\\begin{tabular}{@{\\extracolsep{5pt}} llccccc} \n",
      "\\\\[-1.8ex]\\hline \n",
      "\\hline \\\\[-1.8ex] \n",
      " & Journal & Naive matches & Fuzzy matches & Scopus only & EconLit only &  \\textsc{\\textbf{Total}} \\\\ \n",
      "\\hline \\\\[-1.8ex] \n",
      "\\textsc{Top 5} & & & & & & \\\\ \n",
      " & AER & 4449 & 354 & 11 & 876 & 4803 \\\\ \n",
      " & ECA & 1513 & 54 & 7 & 351 & 1567 \\\\ \n",
      " & JPE & 1205 & 87 & 26 & 301 & 1292 \\\\ \n",
      " & QJE & 1199 & 76 & 27 & 64 & 1275 \\\\ \n",
      " & RES & 1311 & 100 & 31 & 100 & 1411 \\\\ \n",
      "\\textsc{IO \\& Law and Econ} & & & & & & \\\\ \n",
      " & ATB & 547 & 132 & 53 & 217 & 679 \\\\ \n",
      " & JEM & 606 & 101 & 32 & 253 & 707 \\\\ \n",
      " & JHR & 799 & 142 & 35 & 207 & 941 \\\\ \n",
      " & JLE & 600 & 124 & 5 & 162 & 724 \\\\ \n",
      " & JLO & 665 & 49 & 3 & 53 & 714 \\\\ \n",
      " & RJE & 1060 & 109 & 19 & 95 & 1169 \\\\ \n",
      " & JFE & 2473 & 141 & 214 & 3 & 2614 \\\\ \n",
      "\\textsc{Finance} & & & & & & \\\\ \n",
      " & JOF & 2256 & 168 & 12 & 23 & 2424 \\\\ \n",
      " & RFS & 1809 & 154 & 63 & 196 & 1963 \\\\ \n",
      "\\textsc{Labor} & & & & & & \\\\ \n",
      " & JOL & 719 & 95 & 42 & 234 & 814 \\\\ \n",
      "\\hline \\\\[-1.8ex] \n",
      "\\end{tabular} \n",
      "\\end{table} \n",
      "\n"
     ]
    }
   ],
   "source": [
    "### TABLE 2: Results of Scopus-EconLit Matching\n",
    "with open('tables/input/scopus_econlit_matching_results_in.tex', 'r') as file:\n",
    "    old_tex = file.read()\n",
    "    new_tex = old_tex.replace('cccccc', 'llccccc')\n",
    "    \n",
    "    ### Panel creation\n",
    "    new_tex = re.sub(r'(\\n)([A-Z]{3} &)', r'\\n & \\2', new_tex)\n",
    "    new_tex = re.sub(r'(EconLit only & )(Total)', r'\\1 \\\\textsc{\\\\textbf{Total}}', new_tex)\n",
    "    new_tex = re.sub(r'Journal ', r' & Journal ', new_tex)\n",
    "    pre_panel_pub_codes = [(r'AER', r'\\\\textsc{Top 5}'), (r'ATB', r'\\\\textsc{IO \\& Law and Econ}'), (r'JOF', r'\\\\textsc{Finance}'), (r'JOL', r'\\\\textsc{Labor}')]\n",
    "\n",
    "    for pub_code, panel_header in pre_panel_pub_codes:\n",
    "        # print(pub_code)\n",
    "        pattern = re.compile('(\\n) & ' + pub_code)\n",
    "        # print(pattern)\n",
    "        replacement = '\\\\n' + panel_header + ' & & & & & & \\\\\\\\\\\\\\\\ \\\\n & ' + pub_code\n",
    "        # replacement = 'aaaa'\n",
    "        new_tex = re.sub(pattern, replacement, new_tex)\n",
    "    \n",
    "\n",
    "\n",
    "    new_tex = re.sub(r'!htbp', 'h', new_tex)\n",
    "    # print(new_tex)\n",
    "with open('tables/output/scopus_econlit_matching_results_out.tex', 'w') as new_file:\n",
    "    new_file.write(new_tex)\n"
   ]
  }
 ],
 "metadata": {
  "kernelspec": {
   "display_name": "Python 3.10.4 ('ioCapture')",
   "language": "python",
   "name": "python3"
  },
  "language_info": {
   "codemirror_mode": {
    "name": "ipython",
    "version": 3
   },
   "file_extension": ".py",
   "mimetype": "text/x-python",
   "name": "python",
   "nbconvert_exporter": "python",
   "pygments_lexer": "ipython3",
   "version": "3.10.4"
  },
  "orig_nbformat": 4,
  "vscode": {
   "interpreter": {
    "hash": "301a221a682cbebc60020c6c7a0e12fb9a472db6fd70ca33686bd8433de05f70"
   }
  }
 },
 "nbformat": 4,
 "nbformat_minor": 2
}
