{
 "cells": [
  {
   "cell_type": "code",
   "execution_count": 18,
   "metadata": {},
   "outputs": [],
   "source": [
    "import requests\n",
    "import pandas as pd\n",
    "import json\n",
    "import re"
   ]
  },
  {
   "cell_type": "code",
   "execution_count": 3,
   "metadata": {},
   "outputs": [],
   "source": [
    "### PREAMBLE: LOADING LOCAL ENVIRONMENT VARIALBLES (API KEYS) Accessing secure API keys\n",
    "keys_json = json.load(open(\"env_keys.json\"))\n",
    "scopus_key = keys_json['scopus_key']"
   ]
  },
  {
   "cell_type": "code",
   "execution_count": 4,
   "metadata": {},
   "outputs": [],
   "source": [
    "### SCOPUS API REQUEST HEADERS\n",
    "req_headers = {\n",
    "    'X-ELS-ApiKey' : scopus_key\n",
    "}"
   ]
  },
  {
   "cell_type": "code",
   "execution_count": 5,
   "metadata": {},
   "outputs": [],
   "source": [
    "def current_download_scopus_core_len(pub_code):\n",
    "    scopus_core_path = 'scopus_data/{}_scopus_core.csv'.format(pub_code.upper())\n",
    "    current_scopus_df = pd.read_csv(scopus_core_path)\n",
    "    obs_count = len(current_scopus_df)\n",
    "\n",
    "    return obs_count"
   ]
  },
  {
   "cell_type": "code",
   "execution_count": 17,
   "metadata": {},
   "outputs": [],
   "source": [
    "def api_core_count(pub_code):\n",
    "    issn = issn_dict.get(pub_code)\n",
    "    human_query_issn = 'ISSN({})'.format(issn)\n",
    "    human_query_date = '{start_year_str}-{current_year_str}'.format(start_year_str=1990, current_year_str=2021)\n",
    "\n",
    "\n",
    "    url = 'https://api.elsevier.com/content/search/scopus'\n",
    "    call_query = {\n",
    "        'httpAccept' : 'application/json',\n",
    "        'query' : human_query_issn,\n",
    "        'date' : human_query_date,\n",
    "        'count' : '25',\n",
    "        'cursor' : '*',\n",
    "        'view' : 'complete'\n",
    "    }\n",
    "\n",
    "    response = requests.get(url,\n",
    "                    headers = req_headers,\n",
    "                    params = call_query)\n",
    "\n",
    "    response_json = response.json()\n",
    "    total_results = int(response_json['search-results']['opensearch:totalResults'])\n",
    "    return total_results\n"
   ]
  },
  {
   "cell_type": "code",
   "execution_count": 38,
   "metadata": {},
   "outputs": [
    {
     "data": {
      "text/plain": [
       "{'AER': '00028282',\n",
       " 'ECA': '00129682',\n",
       " 'JPE': '00223808',\n",
       " 'QJE': '00335533',\n",
       " 'RES': '00346527',\n",
       " 'ATB': '0003603X',\n",
       " 'ALJ': '00036056',\n",
       " 'JEM': '15309134',\n",
       " 'JHR': '0022166X',\n",
       " 'JLE': '00222186',\n",
       " 'JLO': '87566222',\n",
       " 'RJE': '07416261',\n",
       " 'JOF': '00221082',\n",
       " 'JFE': '0304405X',\n",
       " 'RFS': '08939454',\n",
       " 'JOL': '0734306X'}"
      ]
     },
     "execution_count": 38,
     "metadata": {},
     "output_type": "execute_result"
    }
   ],
   "source": [
    "journals_file = open('journals_of_interest.txt', 'r')\n",
    "journals_files_lines = journals_file.readlines()\n",
    "\n",
    "issn_dict = {}\n",
    "\n",
    "real_lines = []\n",
    "for line in journals_files_lines:\n",
    "    if re.match(r'^-', line):\n",
    "        real_lines.append(line)\n",
    "\n",
    "for line in real_lines:\n",
    "    pub_code = re.search(r'\\{(.+)\\}', line)[1]\n",
    "    issn = re.search(r'\\((.+)\\)', line)[1]  \n",
    "    \n",
    "    issn_dict[pub_code] = issn\n"
   ]
  },
  {
   "cell_type": "code",
   "execution_count": 40,
   "metadata": {},
   "outputs": [
    {
     "name": "stdout",
     "output_type": "stream",
     "text": [
      "-----------------------------AER-----------------------------\n",
      "Number of expected results from Scopus Search API: 5139\n",
      "Number of results downloaded locally: 5139\n",
      "-------------------------------------------------------------\n",
      "-----------------------------ECA-----------------------------\n",
      "Number of expected results from Scopus Search API: 1684\n",
      "Number of results downloaded locally: 1684\n",
      "-------------------------------------------------------------\n",
      "-----------------------------JPE-----------------------------\n",
      "Number of expected results from Scopus Search API: 1331\n",
      "Number of results downloaded locally: 1331\n",
      "-------------------------------------------------------------\n",
      "-----------------------------QJE-----------------------------\n",
      "Number of expected results from Scopus Search API: 1321\n",
      "Number of results downloaded locally: 1321\n",
      "-------------------------------------------------------------\n",
      "-----------------------------RES-----------------------------\n",
      "Number of expected results from Scopus Search API: 1462\n",
      "Number of results downloaded locally: 1462\n",
      "-------------------------------------------------------------\n",
      "-----------------------------ATB-----------------------------\n",
      "Number of expected results from Scopus Search API: 770\n",
      "Number of results downloaded locally: 770\n",
      "-------------------------------------------------------------\n",
      "-----------------------------ALJ-----------------------------\n",
      "Number of expected results from Scopus Search API: 440\n",
      "Number of results downloaded locally: 440\n",
      "-------------------------------------------------------------\n",
      "-----------------------------JEM-----------------------------\n",
      "Number of expected results from Scopus Search API: 746\n",
      "Number of results downloaded locally: 746\n",
      "-------------------------------------------------------------\n",
      "-----------------------------JHR-----------------------------\n",
      "Number of expected results from Scopus Search API: 980\n",
      "Number of results downloaded locally: 980\n",
      "-------------------------------------------------------------\n",
      "-----------------------------JLE-----------------------------\n",
      "Number of expected results from Scopus Search API: 729\n",
      "Number of results downloaded locally: 729\n",
      "-------------------------------------------------------------\n",
      "-----------------------------JLO-----------------------------\n",
      "Number of expected results from Scopus Search API: 743\n",
      "Number of results downloaded locally: 743\n",
      "-------------------------------------------------------------\n",
      "-----------------------------RJE-----------------------------\n",
      "Number of expected results from Scopus Search API: 1195\n",
      "Number of results downloaded locally: 1195\n",
      "-------------------------------------------------------------\n",
      "-----------------------------JOF-----------------------------\n",
      "Number of expected results from Scopus Search API: 2510\n",
      "Number of results downloaded locally: 2510\n",
      "-------------------------------------------------------------\n",
      "-----------------------------JFE-----------------------------\n",
      "Number of expected results from Scopus Search API: 2837\n",
      "Number of results downloaded locally: 2873\n",
      "-------------------------------------------------------------\n",
      "-----------------------------RFS-----------------------------\n",
      "Number of expected results from Scopus Search API: 2078\n",
      "Number of results downloaded locally: 2078\n",
      "-------------------------------------------------------------\n",
      "-----------------------------JOL-----------------------------\n",
      "Number of expected results from Scopus Search API: 865\n",
      "Number of results downloaded locally: 865\n",
      "-------------------------------------------------------------\n"
     ]
    }
   ],
   "source": [
    "for pub_code in issn_dict.keys():\n",
    "    print('-----------------------------{}-----------------------------'.format(pub_code))\n",
    "    \n",
    "    api_results_count = api_core_count(pub_code)\n",
    "    local_results_count = current_download_scopus_core_len(pub_code)\n",
    "\n",
    "    print('Number of expected results from Scopus Search API: {}'.format(api_results_count))\n",
    "    print('Number of results downloaded locally: {}'.format(local_results_count))\n",
    "\n",
    "    if api_results_count > local_results_count:\n",
    "        print('There is something in the API missing locally. NEED TO DOWNLOAD AGAIN.')\n",
    "    else:\n",
    "        print('As expected. Carrying on.')\n",
    "    print('-------------------------------------------------------------'.format(pub_code))\n"
   ]
  }
 ],
 "metadata": {
  "interpreter": {
   "hash": "301a221a682cbebc60020c6c7a0e12fb9a472db6fd70ca33686bd8433de05f70"
  },
  "kernelspec": {
   "display_name": "Python 3.10.4 ('ioCapture')",
   "language": "python",
   "name": "python3"
  },
  "language_info": {
   "codemirror_mode": {
    "name": "ipython",
    "version": 3
   },
   "file_extension": ".py",
   "mimetype": "text/x-python",
   "name": "python",
   "nbconvert_exporter": "python",
   "pygments_lexer": "ipython3",
   "version": "3.10.4"
  },
  "orig_nbformat": 4
 },
 "nbformat": 4,
 "nbformat_minor": 2
}
