{
 "cells": [
  {
   "cell_type": "code",
   "execution_count": 36,
   "metadata": {},
   "outputs": [],
   "source": [
    "import pandas as pd\n",
    "import datetime as dt\n",
    "import os"
   ]
  },
  {
   "cell_type": "code",
   "execution_count": 4,
   "metadata": {},
   "outputs": [],
   "source": [
    "def does_fuzzy_report_exist(pub_code):\n",
    "    fuzzy_report_path = 'econlit_scopus_matching_out/{}_fuzzy_results/{}_fuzzy_matching_report.txt'.format(pub_code, pub_code)\n",
    "    fuzzy_report_status = os.path.exists(fuzzy_report_path)\n",
    "\n",
    "    return fuzzy_report_status\n"
   ]
  },
  {
   "cell_type": "code",
   "execution_count": 48,
   "metadata": {},
   "outputs": [],
   "source": [
    "def get_report_timestamp(pub_code, report_type: str):\n",
    "    if report_type == 'fuzzy':\n",
    "        report_path = 'econlit_scopus_matching_out/{}_fuzzy_results/{}_fuzzy_matching_report.txt'.format(pub_code, pub_code)\n",
    "    elif report_type == 'hand_selection':\n",
    "        report_path = 'econlit_scopus_matching_out/{}_fuzzy_results/{}_hand_selection_report.txt'.format(pub_code, pub_code)\n",
    "\n",
    "    \n",
    "    \n",
    "    with open(report_path, 'r') as report:\n",
    "        report_lines = report.readlines()\n",
    "        timestamp_line = report_lines[0]\n",
    "\n",
    "        timestamp = dt.datetime.strptime(timestamp_line[:-1],'%Y-%m-%d %X.%f')\n",
    "        return timestamp"
   ]
  },
  {
   "cell_type": "code",
   "execution_count": 46,
   "metadata": {},
   "outputs": [],
   "source": [
    "def does_hand_selection_report_exist(pub_code):\n",
    "    hand_selection_report_path = 'econlit_scopus_matching_out/{}_fuzzy_results/{}_hand_selection_report.txt'.format(pub_code, pub_code)\n",
    "\n",
    "    hand_selection_report_status = os.path.exists(hand_selection_report_path)\n",
    "    return hand_selection_report_status"
   ]
  },
  {
   "cell_type": "code",
   "execution_count": 40,
   "metadata": {},
   "outputs": [],
   "source": [
    "def generate_hand_selection_report(pub_code):\n",
    "    fuzzy_report_path = fuzzy_report_path = 'econlit_scopus_matching_out/{}_fuzzy_results/{}_fuzzy_matching_report.txt'.format(pub_code, pub_code)\n",
    "    hand_selection_report_path = hand_selection_report_path = 'econlit_scopus_matching_out/{}_fuzzy_results/{}_hand_selection_report.txt'.format(pub_code, pub_code)\n",
    "\n",
    "    fuzzy_report = open(fuzzy_report_path, 'r')\n",
    "    fuzzy_report_lines = fuzzy_report.readlines()\n",
    "    fuzzy_report.close()\n",
    "\n",
    "    hand_selection_report_lines = fuzzy_report_lines\n",
    "\n",
    "    current_timestamp = str(dt.datetime.now())+'\\n'    \n",
    "    report_title = 'HAND SELECTION_REPORT\\n'\n",
    "\n",
    "    hand_selection_report_lines[0] = current_timestamp\n",
    "    hand_selection_report_lines[1] = report_title\n",
    "\n",
    "\n",
    "    with open(hand_selection_report_path, 'w') as hand_selection_report:\n",
    "        hand_selection_report.writelines(hand_selection_report_lines)\n",
    "\n",
    "    return\n"
   ]
  },
  {
   "cell_type": "code",
   "execution_count": 54,
   "metadata": {},
   "outputs": [
    {
     "name": "stdout",
     "output_type": "stream",
     "text": [
      "haha\n",
      "2022-07-06 22:38:24.964131\n",
      "2022-07-06 22:38:35.186346\n"
     ]
    },
    {
     "data": {
      "text/plain": [
       "True"
      ]
     },
     "execution_count": 54,
     "metadata": {},
     "output_type": "execute_result"
    }
   ],
   "source": [
    "if does_fuzzy_report_exist('RES'):\n",
    "    if does_hand_selection_report_exist('RES'):\n",
    "        print('haha')\n",
    "    else:\n",
    "        print(\"It looks like a hand-selection report for _______ doesn't exist yet. Generating one now.\")\n",
    "        generate_hand_selection_report('RES')\n",
    "else:\n",
    "    print(\"It looks like a fuzzy matching report for _______doesn't exist yet. Please first run the fuzzy-matching algorithm\")\n",
    "\n",
    "\n",
    "fuzzy_report_creation_time = get_report_timestamp('RES', 'fuzzy')\n",
    "hand_selection_report_time = get_report_timestamp('RES', 'hand_selection')\n",
    "\n",
    "\n",
    "print(fuzzy_report_creation_time)\n",
    "\n",
    "print(hand_selection_report_time)\n",
    "fuzzy_report_creation_time < dt.datetime.now()\n"
   ]
  }
 ],
 "metadata": {
  "interpreter": {
   "hash": "301a221a682cbebc60020c6c7a0e12fb9a472db6fd70ca33686bd8433de05f70"
  },
  "kernelspec": {
   "display_name": "Python 3.10.4 ('ioCapture')",
   "language": "python",
   "name": "python3"
  },
  "language_info": {
   "codemirror_mode": {
    "name": "ipython",
    "version": 3
   },
   "file_extension": ".py",
   "mimetype": "text/x-python",
   "name": "python",
   "nbconvert_exporter": "python",
   "pygments_lexer": "ipython3",
   "version": "3.10.4"
  },
  "orig_nbformat": 4
 },
 "nbformat": 4,
 "nbformat_minor": 2
}
