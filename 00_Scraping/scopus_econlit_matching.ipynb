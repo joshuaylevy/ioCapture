{
 "cells": [
  {
   "cell_type": "code",
   "execution_count": 25,
   "metadata": {},
   "outputs": [],
   "source": [
    "import pandas as pd\n",
    "import numpy as np\n",
    "from thefuzz import fuzz"
   ]
  },
  {
   "cell_type": "code",
   "execution_count": 18,
   "metadata": {},
   "outputs": [],
   "source": [
    "def load_input_csvs(pub_code):\n",
    "    print('READING IN {}'.format(pub_code))\n",
    "    scopus_core_path = 'econlit_scopus_matching_out/' + pub_code + '_scopus_core.csv'\n",
    "    econlit_path = 'econlit_scopus_matching_out/' + pub_code.lower() + '_econlit.csv'\n",
    "\n",
    "    scopus_df = pd.read_csv(scopus_core_path, encoding='utf-8')\n",
    "    econlit_df = pd.read_csv(econlit_path, encoding='utf-8')\n",
    "\n",
    "    print('{} ------ NUMBER OF SCOPUS OBSERVATIONS: {}'.format(pub_code, len(scopus_df)))\n",
    "    print('{} ----- NUMBER OF ECONLIT OBSERVATIONS: {}'.format(pub_code, len(econlit_df)))\n",
    "\n",
    "\n",
    "    return scopus_df, econlit_df"
   ]
  },
  {
   "cell_type": "code",
   "execution_count": 19,
   "metadata": {},
   "outputs": [],
   "source": [
    "def naive_match(pub_code, scopus_df, econlit_df):\n",
    "    scopus_df['sc_title_upper'] = scopus_df['sc_title'].apply(lambda x: x.upper())\n",
    "    econlit_df['title_upper'] = econlit_df['title'].apply(lambda x: x.upper())\n",
    "\n",
    "    naive_match_df = pd.merge(scopus_df, econlit_df,\n",
    "        how='outer',\n",
    "        left_on=['sc_vol', 'sc_issue', 'sc_title_upper'],\n",
    "        right_on=['volume', 'issue', 'title_upper'],\n",
    "        indicator=True)\n",
    "\n",
    "    scopus_only_count = len(naive_match_df[naive_match_df._merge == 'left_only'])\n",
    "    econlit_only_count = len(naive_match_df[naive_match_df._merge == 'right_only'])\n",
    "\n",
    "    print('{} ------ NUMBER OF SCOPUS-ONLY OBSERVATIONS: {}'.format(pub_code, scopus_only_count))\n",
    "    print('{} ----- NUMBER OF ECONLIT-ONLY OBSERVATIONS: {}'.format(pub_code, econlit_only_count))\n",
    "\n",
    "    return naive_match_df"
   ]
  },
  {
   "cell_type": "code",
   "execution_count": 26,
   "metadata": {},
   "outputs": [],
   "source": [
    "def left_right_onlys(naive_match_df):\n",
    "    nm_scopus_only = naive_match_df[naive_match_df._merge == 'left_only']\n",
    "    nm_econlit_only = naive_match_df[naive_match_df._merge == 'right_only']\n",
    "\n",
    "    nm_scopus_only.reset_index(inplace=True)\n",
    "    nm_econlit_only.reset_index(inplace=True)\n",
    "\n",
    "    print('Number of SCOPUS-only observations: {}'.format(len(nm_scopus_only)))\n",
    "    print('Number of ECONLIT-only observations: {}'.format(len(nm_econlit_only)))\n",
    "\n",
    "    return nm_scopus_only, nm_econlit_only"
   ]
  },
  {
   "cell_type": "code",
   "execution_count": null,
   "metadata": {},
   "outputs": [],
   "source": [
    "def custom_scorer(scopus_row, econlit_only_df):\n",
    "    scopus_volume = scopus_row.sc_volume\n",
    "    scopus_issue = scopus_row.sc_issue\n",
    "    scopus_pagerange = scopus_row.sc_page_range\n",
    "    scopus_doi = scopus_row.doi\n",
    "    scopus_title_upper = scopus_row.sc_title_upper\n",
    "    \n"
   ]
  },
  {
   "cell_type": "code",
   "execution_count": 38,
   "metadata": {},
   "outputs": [],
   "source": [
    "def scores_instantiation(scopus_only, econlit_only):\n",
    "    # Rows (number of scopus-only articles)\n",
    "    n = len(scopus_only)\n",
    "    # Columns (number of econlit-only articles)\n",
    "    m = len(econlit_only)\n",
    "\n",
    "    score_matrix = np.zeros((n,m))\n",
    "\n",
    "    for i in range(0,n):\n",
    "        # for j in range(0,m):\n",
    "            # score_matrix[i][j] = round(float(str(i) + '.' + str (j)), 4)\n",
    "        scopus_row = scopus_only.loc[i, ;]\n",
    "        temp_econlit_df = econlit_only\n",
    "        score_matrix[i][0:m] = custom_scorer(scopus_row, temp_econlit_df)\n",
    "    \n",
    "    return score_matrix"
   ]
  },
  {
   "cell_type": "code",
   "execution_count": 39,
   "metadata": {},
   "outputs": [
    {
     "name": "stdout",
     "output_type": "stream",
     "text": [
      "READING IN ECA\n",
      "ECA ------ NUMBER OF SCOPUS OBSERVATIONS: 1668\n",
      "ECA ----- NUMBER OF ECONLIT OBSERVATIONS: 2533\n",
      "Index(['doi', 'sc_title', 'sc_issn', 'sc_pub_name', 'sc_vol', 'sc_issue',\n",
      "       'sc_page_range', 'sc_abstract_api_endpoint', 'sc_human_url',\n",
      "       'sc_pub_date', 'sc_open_access_status', 'sc_query_used'],\n",
      "      dtype='object')\n",
      "Index(['volume', 'issue', 'date', 'abstract', 'author', 'jel_desc', 'jel_code',\n",
      "       'title', 'L_code', 'K_code', 'D4_code', 'O3_code', 'G34_code', 'year',\n",
      "       'month', 'day'],\n",
      "      dtype='object')\n",
      "----------------------------------------\n",
      "ECA ------ NUMBER OF SCOPUS-ONLY OBSERVATIONS: 140\n",
      "ECA ----- NUMBER OF ECONLIT-ONLY OBSERVATIONS: 1005\n",
      "----------------------------------------\n",
      "Number of SCOPUS-only observations: 140\n",
      "Number of ECONLIT-only observations: 1005\n",
      "----------------------------------------\n",
      "(140, 1005)\n",
      "[[0.000000e+00 1.000000e-01 2.000000e-01 ... 1.002000e-01 1.003000e-01\n",
      "  1.004000e-01]\n",
      " [1.000000e+00 1.100000e+00 1.200000e+00 ... 1.100200e+00 1.100300e+00\n",
      "  1.100400e+00]\n",
      " [2.000000e+00 2.100000e+00 2.200000e+00 ... 2.100200e+00 2.100300e+00\n",
      "  2.100400e+00]\n",
      " ...\n",
      " [1.370000e+02 1.371000e+02 1.372000e+02 ... 1.371002e+02 1.371003e+02\n",
      "  1.371004e+02]\n",
      " [1.380000e+02 1.381000e+02 1.382000e+02 ... 1.381002e+02 1.381003e+02\n",
      "  1.381004e+02]\n",
      " [1.390000e+02 1.391000e+02 1.392000e+02 ... 1.391002e+02 1.391003e+02\n",
      "  1.391004e+02]]\n"
     ]
    }
   ],
   "source": [
    "scopus_df, econlit_df = load_input_csvs('ECA')\n",
    "print(scopus_df.columns)\n",
    "print(econlit_df.columns)\n",
    "print('----------------------------------------')\n",
    "naive_match_df = naive_match('ECA', scopus_df, econlit_df)\n",
    "print('----------------------------------------')\n",
    "nm_scopus_only, nm_econlit_only = left_right_onlys(naive_match_df)\n",
    "print('----------------------------------------')\n",
    "unmatched_score_matrix = scores_instantiation(nm_scopus_only, nm_econlit_only)\n",
    "print(unmatched_score_matrix.shape)\n",
    "print(unmatched_score_matrix)\n"
   ]
  },
  {
   "cell_type": "code",
   "execution_count": 44,
   "metadata": {},
   "outputs": [
    {
     "name": "stdout",
     "output_type": "stream",
     "text": [
      "[[0. 1. 0.]\n",
      " [0. 0. 0.]]\n",
      "(2, 3)\n"
     ]
    },
    {
     "data": {
      "text/plain": [
       "array([[0., 1., 0.],\n",
       "       [1., 2., 3.]])"
      ]
     },
     "execution_count": 44,
     "metadata": {},
     "output_type": "execute_result"
    }
   ],
   "source": [
    "matrix = np.zeros((2,3))\n",
    "matrix[0,1] = 1\n",
    "print(matrix)\n",
    "print(matrix.shape)\n",
    "\n",
    "matrix[1][0:3] = [1,2,3]\n",
    "matrix"
   ]
  }
 ],
 "metadata": {
  "interpreter": {
   "hash": "301a221a682cbebc60020c6c7a0e12fb9a472db6fd70ca33686bd8433de05f70"
  },
  "kernelspec": {
   "display_name": "Python 3.10.4 ('ioCapture')",
   "language": "python",
   "name": "python3"
  },
  "language_info": {
   "codemirror_mode": {
    "name": "ipython",
    "version": 3
   },
   "file_extension": ".py",
   "mimetype": "text/x-python",
   "name": "python",
   "nbconvert_exporter": "python",
   "pygments_lexer": "ipython3",
   "version": "3.10.4"
  },
  "orig_nbformat": 4
 },
 "nbformat": 4,
 "nbformat_minor": 2
}
