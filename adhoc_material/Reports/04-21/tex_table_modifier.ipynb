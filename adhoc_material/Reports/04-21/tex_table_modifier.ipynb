{
 "cells": [
  {
   "cell_type": "code",
   "execution_count": null,
   "metadata": {},
   "outputs": [],
   "source": [
    "import re\n",
    "import os\n",
    "print(os.getcwd())"
   ]
  },
  {
   "cell_type": "code",
   "execution_count": null,
   "metadata": {},
   "outputs": [],
   "source": [
    "path_prepend = 'tex_tables/'"
   ]
  },
  {
   "cell_type": "code",
   "execution_count": null,
   "metadata": {},
   "outputs": [],
   "source": [
    "### TABLE 4: COMPILING ORDINAL RANKINGS TABLE || output: jel_ranking_table_together.tex\n",
    "pubs_list = ['AER', 'ECA', 'JPE', 'QJE', 'RES']\n",
    "pub_full_name_dict = {\n",
    "    'AER' : 'American Economic Review',\n",
    "    'ECA' : 'Econometrica',\n",
    "    'JPE' : 'Journal of Political Economy',\n",
    "    'QJE' : 'Quarterly Journal of Economics',\n",
    "    'RES' : 'Review of Economic Studies'\n",
    "}\n",
    "print(pubs_list)\n",
    "for pub in pubs_list:\n",
    "    with open(path_prepend + 'jel_ranking_table_' + pub + '.tex', 'r') as pub_tab:\n",
    "        old_tex = pub_tab.read()\n",
    "        pub_full_name  = pub_full_name_dict.get(pub)\n",
    "\n",
    "        # CHANGING ALIGNMENT OF COLUMNS\n",
    "        new_tex = old_tex.replace('ccccccc', 'lllllll')\n",
    "        \n",
    "        # CHANING POSITIONING OF TABLE WITHIN PAGES\n",
    "        new_tex = re.sub(r'!htbp', 'h', new_tex)\n",
    "\n",
    "        # ADDING A PUBLICATION-LEVEL HEADER \n",
    "        new_tex = re.sub(r'\\\\hline \\n\\\\hline \\\\\\\\\\[-1.8ex\\] ', \n",
    "            r'\\\\hline \\n\\\\hline \\\\\\\\[-1.8ex] \\\\multicolumn{7}{c}{Publication : \\\\textit{' + pub_full_name + r'}} \\\\\\\\\\n \\\\cline{1-7} \\\\\\\\',\n",
    "            new_tex)\n",
    "\n",
    "        # CLEANING UP THE COLUMN HEADERS TO BE ONLY YEARS (removing underscores and year so that 'AER\\_1991' becomes '1991)\n",
    "        new_tex = re.sub(r'[A-Z]{3}\\\\_', '', new_tex)\n",
    "\n",
    "        # WRAPPING THE ENTIRE TABLE IN AN ENVIRONMENT THAT SCALES THE TABLE TO THE TEXT-WIDTH OF THE PAGE\n",
    "        new_tex = re.sub(r'\\\\label{} \\n', r'\\\\label{} \\n\\\\begin{adjustbox}{max width = \\\\textwidth}\\n', new_tex)\n",
    "        new_tex = re.sub(r'\\\\end{tabular} \\n', r'\\\\end{tabular} \\n\\\\end{adjustbox} \\n', new_tex)\n",
    "\n",
    "        # CREATE A NICE, CLEANED UP PUBLICATION LEVEL TABLE (STORED AS TEMP, WILL BE DELETED LATER)\n",
    "        with open(path_prepend + 'jel_ranking_table_' + pub +'_temp.tex', 'w') as temp_output:\n",
    "            temp_output.write(new_tex)\n",
    "\n",
    "first_tex_str = open(path_prepend + 'jel_ranking_table_' + pubs_list[0] + '_temp.tex', 'r').read()\n",
    "\n",
    "for i in range(1, len(pubs_list)): \n",
    "    print('EXTRACING AND INJECTING TEX FOR PUBLICATION: {}'.format(pubs_list[i]))\n",
    "\n",
    "    with open(path_prepend + 'jel_ranking_table_' + pubs_list[i] + '_temp.tex', 'r') as temp_table_file:\n",
    "        temp_table_tex = temp_table_file.read()\n",
    "\n",
    "        # WORKING\n",
    "        table_body_of_interest = re.search(r'(?s)(?<=lllllll} \\n\\\\\\\\\\[-1.8ex\\]\\\\hline \\n\\\\hline \\\\\\\\\\[-1.8ex\\]).*(?=\\\\hline)', temp_table_tex).group()\n",
    "        table_body_of_interest = re.sub(r'\\\\', r'\\\\\\\\', table_body_of_interest)\n",
    "\n",
    "    ## WE INSERT THE TABLE BODIES INTO A SINGLE TABULAR ENVIRONMENT\n",
    "    if i == 1:\n",
    "        # This branch does the first table insertion, using a lot of the formatting and preamble work done by stargazer for us (which we basically treat as a wrapper and inject subsequent bodies into)\n",
    "        complete_table_tex = re.sub(r'\\\\hline \\\\\\\\\\[-1.8ex\\] \\n\\\\end{tabular} \\n\\\\end{adjustbox} \\n\\\\end{table}', table_body_of_interest + r'\\n\\\\end{tabular} \\n\\\\end{adjustbox} \\n\\\\end{table}', first_tex_str)\n",
    "    elif i == len(pubs_list) - 1:\n",
    "        # This branch does the last table-body insertion, making sure to cap off with an \\end{tabular environment}\n",
    "        complete_table_tex = re.sub(r'\\\\end{tabular}', table_body_of_interest + r'\\\\hline \\n\\\\end{tabular}', complete_table_tex)\n",
    "    else:\n",
    "        # This branch is the standard insertion branch\n",
    "        complete_table_tex = re.sub(r'\\\\end{tabular}', table_body_of_interest + r'\\n\\\\end{tabular}', complete_table_tex)\n",
    "\n",
    "\n",
    "## ADDING A TABLE CAPTION/TITLE:\n",
    "complete_table_tex = re.sub(r'\\\\caption{}', r'\\\\caption{Ordinal ranking of most frequently (weighted) appearing JEL codes in the Top 5 for selected years}', complete_table_tex)\n",
    "\n",
    "with open(path_prepend + 'jel_ranking_table_together.tex', 'w') as final_output:\n",
    "    final_output.write(complete_table_tex)\n"
   ]
  },
  {
   "cell_type": "code",
   "execution_count": null,
   "metadata": {},
   "outputs": [],
   "source": [
    "### TABLE 4: CLEANUP ABOVE || output: jel_ranking_table_together.tex\n",
    "for pub in pubs_list:\n",
    "    file_name = path_prepend + 'jel_ranking_table_' + pub + '_temp.tex'\n",
    "    if os.path.exists(file_name):\n",
    "        print('removing: {}'.format(file_name))\n",
    "        os.remove(file_name)"
   ]
  },
  {
   "cell_type": "code",
   "execution_count": 185,
   "metadata": {},
   "outputs": [],
   "source": [
    "### TABLE 3: FIXING UP IO SHARE BY JOURNAL TABLE || output: io_share_journal_by_year_cleaned.tex\n",
    "pubs_list = ['AER', 'ECA', 'JPE', 'QJE', 'RES', 'RJE']\n",
    "with open(path_prepend + 'io_share_journal_by_year.tex', 'r') as original_table:\n",
    "    original_tex = original_table.read()\n",
    "    # print(original_tex)\n",
    "\n",
    "    ### CREATING A TABLE TITLE/CAPTION\n",
    "    new_tex = re.sub(r'\\\\caption{}', r'\\\\caption{Share of publications that are IO-related, by year}', original_tex)\n",
    "\n",
    "    # CHANING COLUMN NAMES\n",
    "    for pub in pubs_list:\n",
    "        new_tex = re.sub(r'& '+ pub + r' &', r'& Count &', new_tex)\n",
    "        new_tex = re.sub(r'& '+ pub, r'&', new_tex)\n",
    "    \n",
    "    # WRAPPING THE ENTIRE TABLE IN AN ENVIRONMENT THAT SCALES THE TABLE TO THE TEXT-WIDTH OF THE PAGE\n",
    "    new_tex = re.sub(r'\\\\label{} \\n', r'\\\\label{} \\n\\\\begin{adjustbox}{max width = \\\\textwidth}\\n', new_tex)\n",
    "    new_tex = re.sub(r'\\\\end{tabular} \\n', r'\\\\end{tabular} \\n\\\\end{adjustbox} \\n', new_tex)\n",
    "\n",
    "    # ADDING COLUMN HEADERS (PUB NAME)\n",
    "    for rev_pub in pubs_list:\n",
    "        if rev_pub == pubs_list[0]:\n",
    "            new_tex = re.sub(r'\\n & Count',\n",
    "            r'& \\\\multicolumn{2}{c}{\\\\textit{'+rev_pub+r'}}\\n & Count',\n",
    "            new_tex)\n",
    "        elif rev_pub == pubs_list[len(pubs_list)-1]:\n",
    "            new_tex = re.sub(r'\\n & Count',\n",
    "            r'& \\\\multicolumn{2}{c}{\\\\textit{'+rev_pub+r'}}\\\\\\\\ \\n & Count',\n",
    "            new_tex)\n",
    "        else:\n",
    "            new_tex = re.sub(r'\\n & Count',\n",
    "                r'& \\\\multicolumn{2}{c}{\\\\textit{'+rev_pub+r'}}\\n & Count',\n",
    "                new_tex)\n",
    "    # ADDING LINES UNDER COLUMN HEADERS:\n",
    "    cline_string = r'\\n'\n",
    "    for i in range(0,len(pubs_list)):\n",
    "        cline_string  = cline_string + r'\\\\cline{' + str(i*2 +2) + r'-' + str(i*2 +3) + r'}'\n",
    "\n",
    "    cline_string = cline_string + r'\\\\\\\\ '\n",
    "    new_tex = re.sub(r'\\n & Count',\n",
    "        cline_string + r'\\n & Count',\n",
    "        new_tex)\n",
    "\n",
    "    with open(path_prepend + 'io_share_journal_by_year_cleaned.tex', 'w') as output:\n",
    "        output.write(new_tex)"
   ]
  },
  {
   "cell_type": "code",
   "execution_count": null,
   "metadata": {},
   "outputs": [],
   "source": [
    "### CLEANUP ABOVE || output: io_share_journal_by_year_cleaned.tex\n",
    "pass"
   ]
  },
  {
   "cell_type": "code",
   "execution_count": 186,
   "metadata": {},
   "outputs": [],
   "source": [
    "### TABLE 1:  FIXING UP JOURNAL ARTICLE COUNT TABLE || output: top5_publications_by_year_cleaned.tex\n",
    "# JUST REPLACING A TITLE FOR THE TIME BEING\n",
    "with open(path_prepend + 'top5_publications_by_year.tex', 'r') as original_table:\n",
    "    original_tex = original_table.read()\n",
    "    \n",
    "    ## CREATING A TABLE TITLE/CAPTION\n",
    "    new_tex = re.sub(r'\\\\caption{}', r'\\\\caption{Number of articles published in each of the Top 5 (and RAND), by year}', original_tex)\n",
    "\n",
    "    with open(path_prepend + 'top5_publications_by_year_cleaned.tex', 'w') as output:\n",
    "        output.write(new_tex)\n",
    "    "
   ]
  },
  {
   "cell_type": "code",
   "execution_count": null,
   "metadata": {},
   "outputs": [],
   "source": [
    "### TABLE 1: CLEANUP ABOVE || output: top5_publications_by_year_cleaned.tex\n",
    "pass"
   ]
  },
  {
   "cell_type": "code",
   "execution_count": 188,
   "metadata": {},
   "outputs": [],
   "source": [
    "### TABLE 2: FIXING UP IO SHARE BY YEAR TABLE|| output: top5_publications_by_year_cleaned.tex\n",
    "# JUST REPLACING A TITLE FOR THE TIME BEING\n",
    "with open(path_prepend + 'io_share_by_year.tex', 'r') as original_table:\n",
    "    original_tex = original_table.read()\n",
    "    \n",
    "    ## CREATING A TABLE TITLE/CAPTION\n",
    "    new_tex = re.sub(r'\\\\caption{}', r'\\\\caption{The count and share of Industrial Organization articles in the Top 5 (and RAND), by year}', original_tex)\n",
    "\n",
    "    with open(path_prepend + 'io_share_by_year_cleaned.tex', 'w') as output:\n",
    "        output.write(new_tex)\n",
    "    "
   ]
  },
  {
   "cell_type": "code",
   "execution_count": 187,
   "metadata": {},
   "outputs": [],
   "source": [
    "### TABLE 2: CLEANUP ABOVE|| output: top5_publications_by_year_cleaned.tex\n",
    "pass"
   ]
  }
 ],
 "metadata": {
  "kernelspec": {
   "display_name": "Python 3.8.8 ('base')",
   "language": "python",
   "name": "python3"
  },
  "language_info": {
   "codemirror_mode": {
    "name": "ipython",
    "version": 3
   },
   "file_extension": ".py",
   "mimetype": "text/x-python",
   "name": "python",
   "nbconvert_exporter": "python",
   "pygments_lexer": "ipython3",
   "version": "3.8.8"
  },
  "orig_nbformat": 4,
  "vscode": {
   "interpreter": {
    "hash": "5a6fdbea366c7b44d686c4b3e88b365fb58ab8fc9919f1d3dc4ca0435b8b7768"
   }
  }
 },
 "nbformat": 4,
 "nbformat_minor": 2
}
